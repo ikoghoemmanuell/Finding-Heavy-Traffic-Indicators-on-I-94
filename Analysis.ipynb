{
 "cells": [
  {
   "attachments": {},
   "cell_type": "markdown",
   "id": "3e8f407e",
   "metadata": {},
   "source": [
    "# Title\n",
    "Finding Heavy Traffic Indicators on I-94"
   ]
  },
  {
   "attachments": {},
   "cell_type": "markdown",
   "id": "a9b4f3e6",
   "metadata": {},
   "source": [
    "# Project Description\n",
    "I'm going to analyze a dataset about the westbound traffic on the I-94 Interstate highway.\n",
    "\n",
    "My goal is to find out what factors affect heavy traffic on I-94. These factors can be weather type, time of the day, time of the week, etc. "
   ]
  },
  {
   "cell_type": "markdown",
   "id": "2844a930",
   "metadata": {},
   "source": [
    "## Importation\n",
    "Here is the section to import all the packages/libraries that will be used through this notebook."
   ]
  },
  {
   "cell_type": "code",
   "execution_count": 2,
   "id": "9b5e28cb",
   "metadata": {},
   "outputs": [
    {
     "data": {
      "text/plain": [
       "Ellipsis"
      ]
     },
     "execution_count": 2,
     "metadata": {},
     "output_type": "execute_result"
    }
   ],
   "source": [
    "# Data handling\n",
    "import pandas as pd\n",
    "import numpy as np\n",
    "\n",
    "# Vizualisation (Matplotlib, Plotly, Seaborn, etc. )\n",
    "import seaborn as sns\n",
    "import matplotlib as plt\n",
    "\n",
    "# EDA (pandas-profiling, etc. )\n",
    "...\n",
    "\n",
    "# Feature Processing (Scikit-learn processing, etc. )\n",
    "...\n",
    "\n",
    "# Machine Learning (Scikit-learn Estimators, Catboost, LightGBM, etc. )\n",
    "...\n",
    "\n",
    "# Hyperparameters Fine-tuning (Scikit-learn hp search, cross-validation, etc. )\n",
    "...\n",
    "\n",
    "# Other packages\n"
   ]
  },
  {
   "cell_type": "markdown",
   "id": "c42eb2ec",
   "metadata": {},
   "source": [
    "# Data Loading\n",
    "Here is the section to load the datasets (train, eval, test) and the additional files"
   ]
  },
  {
   "cell_type": "code",
   "execution_count": 3,
   "id": "13e3ca92",
   "metadata": {},
   "outputs": [],
   "source": [
    "traffic=pd.read_csv(\"Metro_Interstate_Traffic_Volume.csv\")"
   ]
  },
  {
   "cell_type": "markdown",
   "id": "6f27de0e",
   "metadata": {},
   "source": [
    "# Exploratory Data Analysis: EDA\n",
    "Here is the section to **inspect** the datasets in depth, **present** it, make **hypotheses** and **think** the *cleaning, processing and features creation*."
   ]
  },
  {
   "cell_type": "code",
   "execution_count": 8,
   "id": "9b213371",
   "metadata": {},
   "outputs": [
    {
     "data": {
      "text/plain": [
       "(48204, 9)"
      ]
     },
     "execution_count": 8,
     "metadata": {},
     "output_type": "execute_result"
    }
   ],
   "source": [
    "traffic.shape"
   ]
  },
  {
   "cell_type": "code",
   "execution_count": 6,
   "id": "e5f1f876",
   "metadata": {},
   "outputs": [
    {
     "data": {
      "text/html": [
       "<div>\n",
       "<style scoped>\n",
       "    .dataframe tbody tr th:only-of-type {\n",
       "        vertical-align: middle;\n",
       "    }\n",
       "\n",
       "    .dataframe tbody tr th {\n",
       "        vertical-align: top;\n",
       "    }\n",
       "\n",
       "    .dataframe thead th {\n",
       "        text-align: right;\n",
       "    }\n",
       "</style>\n",
       "<table border=\"1\" class=\"dataframe\">\n",
       "  <thead>\n",
       "    <tr style=\"text-align: right;\">\n",
       "      <th></th>\n",
       "      <th>holiday</th>\n",
       "      <th>temp</th>\n",
       "      <th>rain_1h</th>\n",
       "      <th>snow_1h</th>\n",
       "      <th>clouds_all</th>\n",
       "      <th>weather_main</th>\n",
       "      <th>weather_description</th>\n",
       "      <th>date_time</th>\n",
       "      <th>traffic_volume</th>\n",
       "    </tr>\n",
       "  </thead>\n",
       "  <tbody>\n",
       "    <tr>\n",
       "      <th>0</th>\n",
       "      <td>None</td>\n",
       "      <td>288.28</td>\n",
       "      <td>0.0</td>\n",
       "      <td>0.0</td>\n",
       "      <td>40</td>\n",
       "      <td>Clouds</td>\n",
       "      <td>scattered clouds</td>\n",
       "      <td>2012-10-02 09:00:00</td>\n",
       "      <td>5545</td>\n",
       "    </tr>\n",
       "    <tr>\n",
       "      <th>1</th>\n",
       "      <td>None</td>\n",
       "      <td>289.36</td>\n",
       "      <td>0.0</td>\n",
       "      <td>0.0</td>\n",
       "      <td>75</td>\n",
       "      <td>Clouds</td>\n",
       "      <td>broken clouds</td>\n",
       "      <td>2012-10-02 10:00:00</td>\n",
       "      <td>4516</td>\n",
       "    </tr>\n",
       "    <tr>\n",
       "      <th>2</th>\n",
       "      <td>None</td>\n",
       "      <td>289.58</td>\n",
       "      <td>0.0</td>\n",
       "      <td>0.0</td>\n",
       "      <td>90</td>\n",
       "      <td>Clouds</td>\n",
       "      <td>overcast clouds</td>\n",
       "      <td>2012-10-02 11:00:00</td>\n",
       "      <td>4767</td>\n",
       "    </tr>\n",
       "    <tr>\n",
       "      <th>3</th>\n",
       "      <td>None</td>\n",
       "      <td>290.13</td>\n",
       "      <td>0.0</td>\n",
       "      <td>0.0</td>\n",
       "      <td>90</td>\n",
       "      <td>Clouds</td>\n",
       "      <td>overcast clouds</td>\n",
       "      <td>2012-10-02 12:00:00</td>\n",
       "      <td>5026</td>\n",
       "    </tr>\n",
       "    <tr>\n",
       "      <th>4</th>\n",
       "      <td>None</td>\n",
       "      <td>291.14</td>\n",
       "      <td>0.0</td>\n",
       "      <td>0.0</td>\n",
       "      <td>75</td>\n",
       "      <td>Clouds</td>\n",
       "      <td>broken clouds</td>\n",
       "      <td>2012-10-02 13:00:00</td>\n",
       "      <td>4918</td>\n",
       "    </tr>\n",
       "    <tr>\n",
       "      <th>5</th>\n",
       "      <td>None</td>\n",
       "      <td>291.72</td>\n",
       "      <td>0.0</td>\n",
       "      <td>0.0</td>\n",
       "      <td>1</td>\n",
       "      <td>Clear</td>\n",
       "      <td>sky is clear</td>\n",
       "      <td>2012-10-02 14:00:00</td>\n",
       "      <td>5181</td>\n",
       "    </tr>\n",
       "    <tr>\n",
       "      <th>6</th>\n",
       "      <td>None</td>\n",
       "      <td>293.17</td>\n",
       "      <td>0.0</td>\n",
       "      <td>0.0</td>\n",
       "      <td>1</td>\n",
       "      <td>Clear</td>\n",
       "      <td>sky is clear</td>\n",
       "      <td>2012-10-02 15:00:00</td>\n",
       "      <td>5584</td>\n",
       "    </tr>\n",
       "    <tr>\n",
       "      <th>7</th>\n",
       "      <td>None</td>\n",
       "      <td>293.86</td>\n",
       "      <td>0.0</td>\n",
       "      <td>0.0</td>\n",
       "      <td>1</td>\n",
       "      <td>Clear</td>\n",
       "      <td>sky is clear</td>\n",
       "      <td>2012-10-02 16:00:00</td>\n",
       "      <td>6015</td>\n",
       "    </tr>\n",
       "    <tr>\n",
       "      <th>8</th>\n",
       "      <td>None</td>\n",
       "      <td>294.14</td>\n",
       "      <td>0.0</td>\n",
       "      <td>0.0</td>\n",
       "      <td>20</td>\n",
       "      <td>Clouds</td>\n",
       "      <td>few clouds</td>\n",
       "      <td>2012-10-02 17:00:00</td>\n",
       "      <td>5791</td>\n",
       "    </tr>\n",
       "    <tr>\n",
       "      <th>9</th>\n",
       "      <td>None</td>\n",
       "      <td>293.10</td>\n",
       "      <td>0.0</td>\n",
       "      <td>0.0</td>\n",
       "      <td>20</td>\n",
       "      <td>Clouds</td>\n",
       "      <td>few clouds</td>\n",
       "      <td>2012-10-02 18:00:00</td>\n",
       "      <td>4770</td>\n",
       "    </tr>\n",
       "    <tr>\n",
       "      <th>10</th>\n",
       "      <td>None</td>\n",
       "      <td>290.97</td>\n",
       "      <td>0.0</td>\n",
       "      <td>0.0</td>\n",
       "      <td>20</td>\n",
       "      <td>Clouds</td>\n",
       "      <td>few clouds</td>\n",
       "      <td>2012-10-02 19:00:00</td>\n",
       "      <td>3539</td>\n",
       "    </tr>\n",
       "    <tr>\n",
       "      <th>11</th>\n",
       "      <td>None</td>\n",
       "      <td>289.38</td>\n",
       "      <td>0.0</td>\n",
       "      <td>0.0</td>\n",
       "      <td>1</td>\n",
       "      <td>Clear</td>\n",
       "      <td>sky is clear</td>\n",
       "      <td>2012-10-02 20:00:00</td>\n",
       "      <td>2784</td>\n",
       "    </tr>\n",
       "    <tr>\n",
       "      <th>12</th>\n",
       "      <td>None</td>\n",
       "      <td>288.61</td>\n",
       "      <td>0.0</td>\n",
       "      <td>0.0</td>\n",
       "      <td>1</td>\n",
       "      <td>Clear</td>\n",
       "      <td>sky is clear</td>\n",
       "      <td>2012-10-02 21:00:00</td>\n",
       "      <td>2361</td>\n",
       "    </tr>\n",
       "    <tr>\n",
       "      <th>13</th>\n",
       "      <td>None</td>\n",
       "      <td>287.16</td>\n",
       "      <td>0.0</td>\n",
       "      <td>0.0</td>\n",
       "      <td>1</td>\n",
       "      <td>Clear</td>\n",
       "      <td>sky is clear</td>\n",
       "      <td>2012-10-02 22:00:00</td>\n",
       "      <td>1529</td>\n",
       "    </tr>\n",
       "    <tr>\n",
       "      <th>14</th>\n",
       "      <td>None</td>\n",
       "      <td>285.45</td>\n",
       "      <td>0.0</td>\n",
       "      <td>0.0</td>\n",
       "      <td>1</td>\n",
       "      <td>Clear</td>\n",
       "      <td>sky is clear</td>\n",
       "      <td>2012-10-02 23:00:00</td>\n",
       "      <td>963</td>\n",
       "    </tr>\n",
       "    <tr>\n",
       "      <th>15</th>\n",
       "      <td>None</td>\n",
       "      <td>284.63</td>\n",
       "      <td>0.0</td>\n",
       "      <td>0.0</td>\n",
       "      <td>1</td>\n",
       "      <td>Clear</td>\n",
       "      <td>sky is clear</td>\n",
       "      <td>2012-10-03 00:00:00</td>\n",
       "      <td>506</td>\n",
       "    </tr>\n",
       "    <tr>\n",
       "      <th>16</th>\n",
       "      <td>None</td>\n",
       "      <td>283.47</td>\n",
       "      <td>0.0</td>\n",
       "      <td>0.0</td>\n",
       "      <td>1</td>\n",
       "      <td>Clear</td>\n",
       "      <td>sky is clear</td>\n",
       "      <td>2012-10-03 01:00:00</td>\n",
       "      <td>321</td>\n",
       "    </tr>\n",
       "    <tr>\n",
       "      <th>17</th>\n",
       "      <td>None</td>\n",
       "      <td>281.18</td>\n",
       "      <td>0.0</td>\n",
       "      <td>0.0</td>\n",
       "      <td>1</td>\n",
       "      <td>Clear</td>\n",
       "      <td>sky is clear</td>\n",
       "      <td>2012-10-03 02:00:00</td>\n",
       "      <td>273</td>\n",
       "    </tr>\n",
       "    <tr>\n",
       "      <th>18</th>\n",
       "      <td>None</td>\n",
       "      <td>281.09</td>\n",
       "      <td>0.0</td>\n",
       "      <td>0.0</td>\n",
       "      <td>1</td>\n",
       "      <td>Clear</td>\n",
       "      <td>sky is clear</td>\n",
       "      <td>2012-10-03 03:00:00</td>\n",
       "      <td>367</td>\n",
       "    </tr>\n",
       "    <tr>\n",
       "      <th>19</th>\n",
       "      <td>None</td>\n",
       "      <td>279.53</td>\n",
       "      <td>0.0</td>\n",
       "      <td>0.0</td>\n",
       "      <td>1</td>\n",
       "      <td>Clear</td>\n",
       "      <td>sky is clear</td>\n",
       "      <td>2012-10-03 04:00:00</td>\n",
       "      <td>814</td>\n",
       "    </tr>\n",
       "  </tbody>\n",
       "</table>\n",
       "</div>"
      ],
      "text/plain": [
       "   holiday    temp  rain_1h  snow_1h  clouds_all weather_main  \\\n",
       "0     None  288.28      0.0      0.0          40       Clouds   \n",
       "1     None  289.36      0.0      0.0          75       Clouds   \n",
       "2     None  289.58      0.0      0.0          90       Clouds   \n",
       "3     None  290.13      0.0      0.0          90       Clouds   \n",
       "4     None  291.14      0.0      0.0          75       Clouds   \n",
       "5     None  291.72      0.0      0.0           1        Clear   \n",
       "6     None  293.17      0.0      0.0           1        Clear   \n",
       "7     None  293.86      0.0      0.0           1        Clear   \n",
       "8     None  294.14      0.0      0.0          20       Clouds   \n",
       "9     None  293.10      0.0      0.0          20       Clouds   \n",
       "10    None  290.97      0.0      0.0          20       Clouds   \n",
       "11    None  289.38      0.0      0.0           1        Clear   \n",
       "12    None  288.61      0.0      0.0           1        Clear   \n",
       "13    None  287.16      0.0      0.0           1        Clear   \n",
       "14    None  285.45      0.0      0.0           1        Clear   \n",
       "15    None  284.63      0.0      0.0           1        Clear   \n",
       "16    None  283.47      0.0      0.0           1        Clear   \n",
       "17    None  281.18      0.0      0.0           1        Clear   \n",
       "18    None  281.09      0.0      0.0           1        Clear   \n",
       "19    None  279.53      0.0      0.0           1        Clear   \n",
       "\n",
       "   weather_description            date_time  traffic_volume  \n",
       "0     scattered clouds  2012-10-02 09:00:00            5545  \n",
       "1        broken clouds  2012-10-02 10:00:00            4516  \n",
       "2      overcast clouds  2012-10-02 11:00:00            4767  \n",
       "3      overcast clouds  2012-10-02 12:00:00            5026  \n",
       "4        broken clouds  2012-10-02 13:00:00            4918  \n",
       "5         sky is clear  2012-10-02 14:00:00            5181  \n",
       "6         sky is clear  2012-10-02 15:00:00            5584  \n",
       "7         sky is clear  2012-10-02 16:00:00            6015  \n",
       "8           few clouds  2012-10-02 17:00:00            5791  \n",
       "9           few clouds  2012-10-02 18:00:00            4770  \n",
       "10          few clouds  2012-10-02 19:00:00            3539  \n",
       "11        sky is clear  2012-10-02 20:00:00            2784  \n",
       "12        sky is clear  2012-10-02 21:00:00            2361  \n",
       "13        sky is clear  2012-10-02 22:00:00            1529  \n",
       "14        sky is clear  2012-10-02 23:00:00             963  \n",
       "15        sky is clear  2012-10-03 00:00:00             506  \n",
       "16        sky is clear  2012-10-03 01:00:00             321  \n",
       "17        sky is clear  2012-10-03 02:00:00             273  \n",
       "18        sky is clear  2012-10-03 03:00:00             367  \n",
       "19        sky is clear  2012-10-03 04:00:00             814  "
      ]
     },
     "execution_count": 6,
     "metadata": {},
     "output_type": "execute_result"
    }
   ],
   "source": [
    "traffic.head(20)"
   ]
  },
  {
   "attachments": {},
   "cell_type": "markdown",
   "id": "24dea39b",
   "metadata": {},
   "source": [
    "## Hypothesis\n",
    "#### Null Hypothesis, HO\n",
    "Time of day is the number one factor that affects traffic the most.\n",
    "\n",
    "#### AlternativeHypothesis, H1\n",
    "Time of day is not the number one factor that affects traffic the most."
   ]
  },
  {
   "attachments": {},
   "cell_type": "markdown",
   "id": "91404ebc",
   "metadata": {},
   "source": [
    "## Questions\n",
    "1. Which holidays have the most traffic?\n",
    "2. Which weekdays have the most traffic?\n",
    "3. What time of day has the most traffic?(Is it morning, afternoon, evening, midnight or midday?)\n",
    "\n",
    "MORNING\n",
    "This is the time from midnight to midday.\n",
    "\n",
    "AFTERNOON\n",
    "This is the time from midday (noon) to evening.\n",
    "From 12:00 hours to approximately 18:00 hours.\n",
    "\n",
    "EVENING\n",
    "This is the time from the end of the afternoon to midnight.\n",
    "From approximately 18:00 hours to 00:00 hours.\n",
    "\n",
    "MIDNIGHT\n",
    "This is the middle of the night (00:00 hours).\n",
    "\n",
    "MIDDAY\n",
    "This is the middle of the day, also called \"NOON\" (12:00 hours).\n",
    "\n",
    "4. Which factor affects traffic the most?\n",
    "5. Compare rain, snow and temparature based on how they affect traffic\n",
    "6. What's the highest recorded traffic?\n"
   ]
  },
  {
   "cell_type": "code",
   "execution_count": 7,
   "id": "b3785b0d",
   "metadata": {},
   "outputs": [
    {
     "name": "stdout",
     "output_type": "stream",
     "text": [
      "<class 'pandas.core.frame.DataFrame'>\n",
      "RangeIndex: 48204 entries, 0 to 48203\n",
      "Data columns (total 9 columns):\n",
      " #   Column               Non-Null Count  Dtype  \n",
      "---  ------               --------------  -----  \n",
      " 0   holiday              48204 non-null  object \n",
      " 1   temp                 48204 non-null  float64\n",
      " 2   rain_1h              48204 non-null  float64\n",
      " 3   snow_1h              48204 non-null  float64\n",
      " 4   clouds_all           48204 non-null  int64  \n",
      " 5   weather_main         48204 non-null  object \n",
      " 6   weather_description  48204 non-null  object \n",
      " 7   date_time            48204 non-null  object \n",
      " 8   traffic_volume       48204 non-null  int64  \n",
      "dtypes: float64(3), int64(2), object(4)\n",
      "memory usage: 3.3+ MB\n"
     ]
    }
   ],
   "source": [
    "traffic.info()"
   ]
  },
  {
   "cell_type": "markdown",
   "id": "6a70f3a7",
   "metadata": {},
   "source": [
    "## Dataset overview\n",
    "\n",
    "Have a look at the loaded datsets using the following methods: `.head(), .info()`"
   ]
  },
  {
   "attachments": {},
   "cell_type": "markdown",
   "id": "e6fff50c",
   "metadata": {},
   "source": [
    "## Issues with the data\n",
    "1. column names of sheet1 are different from the others\n",
    "2. sheet3 has an unnecessary column('Unnamed: 9')\n",
    "3. sheet1 doesn't have columns Founders,Investor and Founded.\n",
    "4. sheet1 amount column has rupees, dollars, commas and is a string\n",
    "5. amount column of other sheets have dollars, commas and is a string\n",
    "6. there are null values in the founded, headquater, sector and stage columns\n",
    "7. headquater column for sheet1 has more information\n",
    "8. for the sector column, the values are different in all\n",
    "9. amount column has null values\n",
    "10. datatypes are mostly object"
   ]
  },
  {
   "attachments": {},
   "cell_type": "markdown",
   "id": "18be272c",
   "metadata": {},
   "source": [
    "## How we intend to handle each issue identified\n",
    "1. change column names of sheet1 to match the others\n",
    "2. drop unnecessary column in sheet3\n",
    "3. add missing columns to sheet1 with null values\n",
    "4. convert sheet1 amount column to dollars in float\n",
    "5. convert amount of other sheets to dollars in float\n",
    "6. we'll leave the null values since they are not numbers\n",
    "7. separate by commas and keep only the first word\n",
    "8. make the values similar for example: \"Ecommerce\" and \"E-Commerce Platforms\" should me \"E-commerce\"\n",
    "9. replace null values in amount column by calculating the mean or median\n",
    "10. change datatypes accordinly for each column"
   ]
  },
  {
   "attachments": {},
   "cell_type": "markdown",
   "id": "7a73262b",
   "metadata": {},
   "source": [
    "## Verify Data Quality\n",
    "The data is dirty and needs a lot of cleaning before we can use it. It also has a lot of null values. So the quality is low."
   ]
  },
  {
   "cell_type": "markdown",
   "id": "ce14e851",
   "metadata": {},
   "source": [
    "## Data Cleaning"
   ]
  },
  {
   "cell_type": "markdown",
   "id": "f50668a0",
   "metadata": {},
   "source": [
    "1. change column names of sheet1 to match the others"
   ]
  },
  {
   "cell_type": "markdown",
   "id": "38f67edc",
   "metadata": {},
   "source": [
    "2. drop unnecessary column in sheet3"
   ]
  },
  {
   "cell_type": "markdown",
   "id": "7ce40b1b",
   "metadata": {},
   "source": [
    "3. add missing columns to sheet1 with null values"
   ]
  },
  {
   "cell_type": "code",
   "execution_count": 11,
   "id": "c4a60df2",
   "metadata": {},
   "outputs": [],
   "source": [
    "sheet1[\"Founded\"] = np.nan\n",
    "sheet1[\"Founders\"] = np.nan\n",
    "sheet1[\"Investor\"] = np.nan"
   ]
  },
  {
   "cell_type": "markdown",
   "id": "6af9f67e",
   "metadata": {},
   "source": [
    "4. convert sheet1 amount column to dollars in float"
   ]
  }
 ],
 "metadata": {
  "kernelspec": {
   "display_name": "Python 3 (ipykernel)",
   "language": "python",
   "name": "python3"
  },
  "language_info": {
   "codemirror_mode": {
    "name": "ipython",
    "version": 3
   },
   "file_extension": ".py",
   "mimetype": "text/x-python",
   "name": "python",
   "nbconvert_exporter": "python",
   "pygments_lexer": "ipython3",
   "version": "3.9.12 (main, Apr  4 2022, 05:22:27) [MSC v.1916 64 bit (AMD64)]"
  },
  "vscode": {
   "interpreter": {
    "hash": "0bc6de047e58dac5738e6fd71455bb891a228ea6d3201e9c8a63259fc0a2df17"
   }
  }
 },
 "nbformat": 4,
 "nbformat_minor": 5
}
